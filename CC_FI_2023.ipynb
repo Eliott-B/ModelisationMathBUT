{
 "cells": [
  {
   "cell_type": "markdown",
   "id": "b58c6bc0",
   "metadata": {},
   "source": [
    "# Modélisation Mathématique: contrôle continu (CC)\n",
    "\n",
    "**Novembre 2023**\n",
    "\n",
    "- Travail individuel.\n",
    "- Toute documentation autorisée.\n",
    "- Internet autorisé, à l'exception des outils de type Chat GPT ainsi que tout moyen de communication entre vous."
   ]
  },
  {
   "cell_type": "markdown",
   "id": "824f0b35",
   "metadata": {},
   "source": [
    "## Librairies"
   ]
  },
  {
   "cell_type": "code",
   "execution_count": 1,
   "id": "065f1d8b",
   "metadata": {},
   "outputs": [],
   "source": [
    "import numpy as np\n",
    "from sklearn.datasets import make_blobs\n",
    "import matplotlib.pyplot as plt"
   ]
  },
  {
   "cell_type": "code",
   "execution_count": null,
   "id": "fb71654c",
   "metadata": {},
   "outputs": [],
   "source": []
  },
  {
   "cell_type": "markdown",
   "id": "4e8b6110",
   "metadata": {},
   "source": [
    "## Exercice 1"
   ]
  },
  {
   "cell_type": "markdown",
   "id": "d3d48515",
   "metadata": {},
   "source": [
    "Exécutez les cellules ci-dessous."
   ]
  },
  {
   "cell_type": "code",
   "execution_count": 2,
   "id": "84fc6330",
   "metadata": {},
   "outputs": [],
   "source": [
    "# generate data\n",
    "X, y = make_blobs(n_samples=200, \n",
    "                  n_features=2, \n",
    "                  centers=2, \n",
    "                  cluster_std=1,\n",
    "                  random_state=42)"
   ]
  },
  {
   "cell_type": "code",
   "execution_count": 3,
   "id": "1ae1ea14",
   "metadata": {},
   "outputs": [],
   "source": [
    "# separation line\n",
    "\n",
    "from sklearn.linear_model import Perceptron\n",
    "model = Perceptron().fit(X, y)\n",
    "coef = model.coef_[0]"
   ]
  },
  {
   "cell_type": "code",
   "execution_count": 5,
   "id": "40dc80f4",
   "metadata": {
    "scrolled": true
   },
   "outputs": [
    {
     "data": {
      "image/png": "[encoded data removed]",
      "text/plain": [
       "<Figure size 576x288 with 1 Axes>"
      ]
     },
     "metadata": {
      "needs_background": "light"
     },
     "output_type": "display_data"
    }
   ],
   "source": [
    "# plot\n",
    "plt.figure(figsize=(8,4))\n",
    "\n",
    "x_min, x_max = np.min(X[:,0]), np.max(X[:,0])\n",
    "y_min, y_max = np.min(X[:,1]), np.max(X[:,1])\n",
    "\n",
    "x = np.linspace(x_min, x_max)\n",
    "plt.scatter(X[:,0], X[:,1], c=y)\n",
    "plt.plot(x, coef[0]*x + coef[1], color=\"red\")\n",
    "\n",
    "plt.xlabel(\"$x_1$\")\n",
    "plt.ylabel(\"$x_2$\")\n",
    "\n",
    "plt.xlim([x_min-1, x_max+1])\n",
    "plt.ylim([y_min-1, y_max+1])\n",
    "\n",
    "plt.show()"
   ]
  },
  {
   "cell_type": "markdown",
   "id": "00e32e07",
   "metadata": {},
   "source": [
    "Soient `X, y` les data représentées ci-dessus, où `X` représente un ensemble de points (2D) et `y` la classe (couleur) à laquelle ils appartiennent. \n",
    "\n",
    "- Implémentez un algoriithme (simple) pour déterminer l'équation d'une droite qui sépare les data correctement (cf. droite rouge ci-dessus).\n",
    "\n",
    " Par exemple, une idée simple serait de faire varier la pente et l'ordonnée à l'origine de la droite jusqu'à obtenir une séparation parfaite des data."
   ]
  },
  {
   "cell_type": "code",
   "execution_count": null,
   "id": "667cb1de",
   "metadata": {},
   "outputs": [],
   "source": []
  },
  {
   "cell_type": "code",
   "execution_count": null,
   "id": "8795164d",
   "metadata": {},
   "outputs": [],
   "source": []
  },
  {
   "cell_type": "code",
   "execution_count": null,
   "id": "d26bb0b0",
   "metadata": {},
   "outputs": [],
   "source": []
  },
  {
   "cell_type": "markdown",
   "id": "2261602f",
   "metadata": {},
   "source": [
    "## Exercice 2"
   ]
  },
  {
   "cell_type": "markdown",
   "id": "ca080857",
   "metadata": {},
   "source": [
    "Soit le **train set** $S_{\\rm train} = \\left\\{ \\left( \\boldsymbol{x_1}, y_1 \\right), \\dots, \\left( \\boldsymbol{x_N}, y_N \\right) \\right\\}$ composé de $N$ observations. \n",
    "La matrice des **features** $\\boldsymbol{X}$ et le vecteur (ou matrice) des **targets** $\\boldsymbol{y}$ sont définis de la manière suivante:\n",
    "\n",
    "$$\n",
    "\\boldsymbol{X} =\n",
    "\\begin{pmatrix}\n",
    "1 & \\boldsymbol{x_1}^T \\\\\n",
    "\\vdots & \\vdots \\\\\n",
    "1 & \\boldsymbol{x_N}^T \n",
    "\\end{pmatrix}\n",
    "=\n",
    "\\begin{pmatrix}\n",
    "1 & x_{11} & \\cdots & x_{1p} \\\\\n",
    "\\vdots & \\vdots & \\ddots & \\vdots \\\\\n",
    "1 & x_{N1} &\\cdots & x_{Np}\n",
    "\\end{pmatrix}~\n",
    "\\text{  et  }~\n",
    "\\boldsymbol{y} =\n",
    "\\begin{pmatrix}\n",
    "y_1 \\\\\n",
    "\\vdots \\\\\n",
    "y_N \n",
    "\\end{pmatrix}\n",
    "$$\n",
    "\n",
    "\n",
    "La solution de la **régression linéaire** est le vecteur de coefficients $\\boldsymbol{\\hat \\beta}$ qui satisfait (cf. cours)\n",
    "\n",
    "$$\n",
    "\\boldsymbol{\\hat{\\beta}} \n",
    "= \\underset{\\boldsymbol{\\beta}}{\\arg \\min} \\, \\left\\| \\boldsymbol{X} \\boldsymbol{\\beta} - \\boldsymbol{y} \\right\\|^2\n",
    "$$\n",
    "\n",
    "\n",
    "- Étant donné les data `X, y` ci-dessous, implémentez une **descente de gradient** – et non la solution analytique vue en cours – pour déterminer le vecteur de paramêtres $\\boldsymbol{\\hat{\\beta}}$ qui minimise l'expression ci-dessus.\n",
    "\n",
    " Dans votre algorithme, vous pouvez utiliser comme learning rate et toléreece `lamda=1e-3, epsilon=1e-3`.\n",
    " \n",
    " Votre solution vous paraît-elle correcte? Justifiez.\n",
    " \n",
    " \n",
    "- **(Bonus)** Êtes-vous capable de généraliser votre algorithme au cas de la **régression Ridge**?"
   ]
  },
  {
   "cell_type": "code",
   "execution_count": 6,
   "id": "a1f27335",
   "metadata": {},
   "outputs": [],
   "source": [
    "# data\n",
    "\n",
    "X = np.random.uniform(-1, 1, size=(200,3))\n",
    "coeff = np.random.uniform(-5, 5, size=(4))\n",
    "noise = np.random.normal(0, 1, size=(200))\n",
    "y = coeff[0] + coeff[1]*X[:,0] + coeff[2]*X[:,1] + coeff[3]*X[:,2] + noise"
   ]
  },
  {
   "cell_type": "code",
   "execution_count": 7,
   "id": "781a4f23",
   "metadata": {},
   "outputs": [
    {
     "data": {
      "text/plain": [
       "((200, 3), (200,))"
      ]
     },
     "execution_count": 7,
     "metadata": {},
     "output_type": "execute_result"
    }
   ],
   "source": [
    "X.shape, y.shape"
   ]
  },
  {
   "cell_type": "code",
   "execution_count": null,
   "id": "7468c683",
   "metadata": {},
   "outputs": [],
   "source": []
  },
  {
   "cell_type": "code",
   "execution_count": null,
   "id": "0e60312c",
   "metadata": {},
   "outputs": [],
   "source": []
  },
  {
   "cell_type": "code",
   "execution_count": null,
   "id": "a31ea164",
   "metadata": {},
   "outputs": [],
   "source": []
  },
  {
   "cell_type": "markdown",
   "id": "45fc7b25",
   "metadata": {},
   "source": [
    "## Exercice 3"
   ]
  },
  {
   "cell_type": "markdown",
   "id": "76e16c8f",
   "metadata": {},
   "source": [
    "Exécutez les cellules ci-dessous."
   ]
  },
  {
   "cell_type": "code",
   "execution_count": 8,
   "id": "e2157e0a",
   "metadata": {},
   "outputs": [],
   "source": [
    "# data\n",
    "betas = np.array([5.3, -2.1])\n",
    "\n",
    "X_1 = np.random.uniform(-5, 1, size=(100))\n",
    "y_1 = betas[0] + betas[1]*X_1 + np.random.normal(0, 3, size=(100))\n",
    "\n",
    "X_2 = np.random.uniform(1, 5, size=(100))\n",
    "y_2 = betas[0] - betas[1]*X_2 + np.random.normal(0, 3, size=(100))\n",
    "\n",
    "X = np.concatenate([X_1, X_2])\n",
    "y = np.concatenate([y_1, y_2])"
   ]
  },
  {
   "cell_type": "code",
   "execution_count": 9,
   "id": "4acec955",
   "metadata": {},
   "outputs": [
    {
     "data": {
      "image/png": "[encoded data removed]",
      "text/plain": [
       "<Figure size 576x288 with 1 Axes>"
      ]
     },
     "metadata": {
      "needs_background": "light"
     },
     "output_type": "display_data"
    }
   ],
   "source": [
    "# plot\n",
    "plt.figure(figsize=(8,4))\n",
    "\n",
    "p = 0.5\n",
    "X_tmp_1 = np.vstack([X[X<=p], np.ones(len(X[X<=p]))]).T\n",
    "m_1, h_1 = np.linalg.lstsq(X_tmp_1, y[X<=p], rcond=None)[0]\n",
    "\n",
    "X_tmp_2 = np.vstack([X[X>p], np.ones(len(X[X>p]))]).T\n",
    "m_2, h_2 = np.linalg.lstsq(X_tmp_2, y[X>p], rcond=None)[0]\n",
    "\n",
    "plt.scatter(X, y, label=\"data\", color=\"C0\")\n",
    "plt.plot(X_tmp_1, m_1*X_tmp_1 + h_1, color=\"red\")\n",
    "plt.plot(X_tmp_2, m_2*X_tmp_2 + h_2, color=\"red\")\n",
    "plt.axvline(0.5, color='black', linestyle='--', linewidth=1)\n",
    "\n",
    "plt.xlabel(\"x\")\n",
    "plt.xticks([-4, -2, 0, 0.5, 2, 4], [-4, -2, 0, r\"$p = 0.5$\", 2, 4])\n",
    "plt.ylabel(\"y\")\n",
    "\n",
    "plt.legend()\n",
    "plt.show()"
   ]
  },
  {
   "cell_type": "markdown",
   "id": "e856c081",
   "metadata": {},
   "source": [
    "1. Ajustez deux **régression linéaires** sur les data `X, y`, comme illustré ci-dessus: \n",
    "    - la première régression porte sur les data $(x_i, y_i)$ telles que $x_i \\leq p$, (où $p = 0.5$)\n",
    "    - la seconde régression porte sur les data $(x_i, y_i)$ telles que $x_i > p$ (où $p = 0.5$).\n",
    "    \n",
    " Donnez les coefficients et faites le graphe des régressions linéaires que vous avez obtenues. Vous devriez un plot similaire à celui ci-dessus.\n",
    "\n",
    "\n",
    "2. Calculer la **mean squared error (MSE)** relative à votre double régression.\n",
    "\n",
    "\n",
    "3. Faites variez le point $p$ entre $0$ et $1$ pour chercher la valeur de $p$ qui donne lieu à une MSE minimale."
   ]
  },
  {
   "cell_type": "code",
   "execution_count": null,
   "id": "2e621f59",
   "metadata": {},
   "outputs": [],
   "source": []
  },
  {
   "cell_type": "code",
   "execution_count": null,
   "id": "4d81a170",
   "metadata": {},
   "outputs": [],
   "source": []
  },
  {
   "cell_type": "code",
   "execution_count": null,
   "id": "3c14b3cc",
   "metadata": {},
   "outputs": [],
   "source": []
  }
 ],
 "metadata": {
  "kernelspec": {
   "display_name": "Python 3 (ipykernel)",
   "language": "python",
   "name": "python3"
  },
  "language_info": {
   "codemirror_mode": {
    "name": "ipython",
    "version": 3
   },
   "file_extension": ".py",
   "mimetype": "text/x-python",
   "name": "python",
   "nbconvert_exporter": "python",
   "pygments_lexer": "ipython3",
   "version": "3.9.5"
  }
 },
 "nbformat": 4,
 "nbformat_minor": 5
}
