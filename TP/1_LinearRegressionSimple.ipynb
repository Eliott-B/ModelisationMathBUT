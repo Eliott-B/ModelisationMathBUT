{
 "cells": [
  {
   "cell_type": "markdown",
   "id": "01465d6e",
   "metadata": {},
   "source": [
    "# Simple Linear Regression from Scratch"
   ]
  },
  {
   "cell_type": "markdown",
   "id": "389f4b2a",
   "metadata": {},
   "source": [
    "- On considère le dataset `possum.csv` qui rassemble des données sur des opossums.\n",
    "\n",
    "- Implémentez une **régression linaire** permettant de prédire la variable $Y$ `footlgth`en fonction de la variable $X$ `earconch`.\n",
    "\n",
    "- On rappelle que le problème de minimisation et la solution associée de la régression linéaire sont donnés par:\n",
    "\n",
    "\\begin{align*}\n",
    "\\hat \\beta_0, \\hat \\beta_1 & = & \\underset{\\beta_0, \\beta_1}{\\arg \\min}~\\mathrm{RSS} ( \\beta_0, \\beta_1 ) \n",
    "= \\underset{\\beta_0, \\beta_1}{\\arg \\min} \\sum_{i=1}^N \\big( (\\beta_0 + \\beta_1 x_i) - y_i \\big)^2 \\\\\n",
    "\\\\\n",
    "\\hat \\beta_0  = \\bar y - \\hat \\beta_1 \\bar x & ~~~~~\\text{et}~~~~~ & \\hat \\beta_1  = \\frac{\\sum_{i=1}^N x_i (y_i - \\bar y)}{\\sum_{i=1}^N x_i (x_i - \\bar x)} = \\frac{\\sum_{i=1}^N ( x_i - \\bar x)(y_i - \\bar y)}{\\sum_{i=1}^N (x_i - \\bar x)^2} = \\frac{S_{xy}}{S_{xx}}  \\\\\n",
    "\\\\\n",
    "& \\text{où} & \\bar x = \\frac{1}{N}\\sum_{i=1}^N x_i ~~~\\text{et}~~~ \\bar y = \\frac{1}{N}\\sum_{i=1}^N y_i\n",
    "\\end{align*}"
   ]
  },
  {
   "cell_type": "markdown",
   "id": "3d94460f",
   "metadata": {},
   "source": [
    "## Librairies"
   ]
  },
  {
   "cell_type": "code",
   "execution_count": 12,
   "id": "84dfc466",
   "metadata": {},
   "outputs": [],
   "source": [
    "import pandas as pd\n",
    "import numpy as np\n",
    "\n",
    "import matplotlib.pyplot as plt"
   ]
  },
  {
   "cell_type": "markdown",
   "id": "0b26f9c7",
   "metadata": {},
   "source": [
    "## Data"
   ]
  },
  {
   "cell_type": "code",
   "execution_count": 13,
   "id": "3f56942e",
   "metadata": {},
   "outputs": [],
   "source": [
    "dataset = pd.read_csv(\"data/possum.csv\")"
   ]
  },
  {
   "cell_type": "code",
   "execution_count": 14,
   "id": "c9706249",
   "metadata": {},
   "outputs": [
    {
     "data": {
      "text/html": [
       "<div>\n",
       "<style scoped>\n",
       "    .dataframe tbody tr th:only-of-type {\n",
       "        vertical-align: middle;\n",
       "    }\n",
       "\n",
       "    .dataframe tbody tr th {\n",
       "        vertical-align: top;\n",
       "    }\n",
       "\n",
       "    .dataframe thead th {\n",
       "        text-align: right;\n",
       "    }\n",
       "</style>\n",
       "<table border=\"1\" class=\"dataframe\">\n",
       "  <thead>\n",
       "    <tr style=\"text-align: right;\">\n",
       "      <th></th>\n",
       "      <th>case</th>\n",
       "      <th>site</th>\n",
       "      <th>Pop</th>\n",
       "      <th>sex</th>\n",
       "      <th>age</th>\n",
       "      <th>hdlngth</th>\n",
       "      <th>skullw</th>\n",
       "      <th>totlngth</th>\n",
       "      <th>taill</th>\n",
       "      <th>footlgth</th>\n",
       "      <th>earconch</th>\n",
       "      <th>eye</th>\n",
       "      <th>chest</th>\n",
       "      <th>belly</th>\n",
       "    </tr>\n",
       "  </thead>\n",
       "  <tbody>\n",
       "    <tr>\n",
       "      <th>0</th>\n",
       "      <td>1</td>\n",
       "      <td>1</td>\n",
       "      <td>Vic</td>\n",
       "      <td>m</td>\n",
       "      <td>8.0</td>\n",
       "      <td>94.1</td>\n",
       "      <td>60.4</td>\n",
       "      <td>89.0</td>\n",
       "      <td>36.0</td>\n",
       "      <td>74.5</td>\n",
       "      <td>54.5</td>\n",
       "      <td>15.2</td>\n",
       "      <td>28.0</td>\n",
       "      <td>36.0</td>\n",
       "    </tr>\n",
       "    <tr>\n",
       "      <th>1</th>\n",
       "      <td>2</td>\n",
       "      <td>1</td>\n",
       "      <td>Vic</td>\n",
       "      <td>f</td>\n",
       "      <td>6.0</td>\n",
       "      <td>92.5</td>\n",
       "      <td>57.6</td>\n",
       "      <td>91.5</td>\n",
       "      <td>36.5</td>\n",
       "      <td>72.5</td>\n",
       "      <td>51.2</td>\n",
       "      <td>16.0</td>\n",
       "      <td>28.5</td>\n",
       "      <td>33.0</td>\n",
       "    </tr>\n",
       "    <tr>\n",
       "      <th>2</th>\n",
       "      <td>3</td>\n",
       "      <td>1</td>\n",
       "      <td>Vic</td>\n",
       "      <td>f</td>\n",
       "      <td>6.0</td>\n",
       "      <td>94.0</td>\n",
       "      <td>60.0</td>\n",
       "      <td>95.5</td>\n",
       "      <td>39.0</td>\n",
       "      <td>75.4</td>\n",
       "      <td>51.9</td>\n",
       "      <td>15.5</td>\n",
       "      <td>30.0</td>\n",
       "      <td>34.0</td>\n",
       "    </tr>\n",
       "    <tr>\n",
       "      <th>3</th>\n",
       "      <td>4</td>\n",
       "      <td>1</td>\n",
       "      <td>Vic</td>\n",
       "      <td>f</td>\n",
       "      <td>6.0</td>\n",
       "      <td>93.2</td>\n",
       "      <td>57.1</td>\n",
       "      <td>92.0</td>\n",
       "      <td>38.0</td>\n",
       "      <td>76.1</td>\n",
       "      <td>52.2</td>\n",
       "      <td>15.2</td>\n",
       "      <td>28.0</td>\n",
       "      <td>34.0</td>\n",
       "    </tr>\n",
       "    <tr>\n",
       "      <th>4</th>\n",
       "      <td>5</td>\n",
       "      <td>1</td>\n",
       "      <td>Vic</td>\n",
       "      <td>f</td>\n",
       "      <td>2.0</td>\n",
       "      <td>91.5</td>\n",
       "      <td>56.3</td>\n",
       "      <td>85.5</td>\n",
       "      <td>36.0</td>\n",
       "      <td>71.0</td>\n",
       "      <td>53.2</td>\n",
       "      <td>15.1</td>\n",
       "      <td>28.5</td>\n",
       "      <td>33.0</td>\n",
       "    </tr>\n",
       "    <tr>\n",
       "      <th>...</th>\n",
       "      <td>...</td>\n",
       "      <td>...</td>\n",
       "      <td>...</td>\n",
       "      <td>...</td>\n",
       "      <td>...</td>\n",
       "      <td>...</td>\n",
       "      <td>...</td>\n",
       "      <td>...</td>\n",
       "      <td>...</td>\n",
       "      <td>...</td>\n",
       "      <td>...</td>\n",
       "      <td>...</td>\n",
       "      <td>...</td>\n",
       "      <td>...</td>\n",
       "    </tr>\n",
       "    <tr>\n",
       "      <th>99</th>\n",
       "      <td>100</td>\n",
       "      <td>7</td>\n",
       "      <td>other</td>\n",
       "      <td>m</td>\n",
       "      <td>1.0</td>\n",
       "      <td>89.5</td>\n",
       "      <td>56.0</td>\n",
       "      <td>81.5</td>\n",
       "      <td>36.5</td>\n",
       "      <td>66.0</td>\n",
       "      <td>46.8</td>\n",
       "      <td>14.8</td>\n",
       "      <td>23.0</td>\n",
       "      <td>27.0</td>\n",
       "    </tr>\n",
       "    <tr>\n",
       "      <th>100</th>\n",
       "      <td>101</td>\n",
       "      <td>7</td>\n",
       "      <td>other</td>\n",
       "      <td>m</td>\n",
       "      <td>1.0</td>\n",
       "      <td>88.6</td>\n",
       "      <td>54.7</td>\n",
       "      <td>82.5</td>\n",
       "      <td>39.0</td>\n",
       "      <td>64.4</td>\n",
       "      <td>48.0</td>\n",
       "      <td>14.0</td>\n",
       "      <td>25.0</td>\n",
       "      <td>33.0</td>\n",
       "    </tr>\n",
       "    <tr>\n",
       "      <th>101</th>\n",
       "      <td>102</td>\n",
       "      <td>7</td>\n",
       "      <td>other</td>\n",
       "      <td>f</td>\n",
       "      <td>6.0</td>\n",
       "      <td>92.4</td>\n",
       "      <td>55.0</td>\n",
       "      <td>89.0</td>\n",
       "      <td>38.0</td>\n",
       "      <td>63.5</td>\n",
       "      <td>45.4</td>\n",
       "      <td>13.0</td>\n",
       "      <td>25.0</td>\n",
       "      <td>30.0</td>\n",
       "    </tr>\n",
       "    <tr>\n",
       "      <th>102</th>\n",
       "      <td>103</td>\n",
       "      <td>7</td>\n",
       "      <td>other</td>\n",
       "      <td>m</td>\n",
       "      <td>4.0</td>\n",
       "      <td>91.5</td>\n",
       "      <td>55.2</td>\n",
       "      <td>82.5</td>\n",
       "      <td>36.5</td>\n",
       "      <td>62.9</td>\n",
       "      <td>45.9</td>\n",
       "      <td>15.4</td>\n",
       "      <td>25.0</td>\n",
       "      <td>29.0</td>\n",
       "    </tr>\n",
       "    <tr>\n",
       "      <th>103</th>\n",
       "      <td>104</td>\n",
       "      <td>7</td>\n",
       "      <td>other</td>\n",
       "      <td>f</td>\n",
       "      <td>3.0</td>\n",
       "      <td>93.6</td>\n",
       "      <td>59.9</td>\n",
       "      <td>89.0</td>\n",
       "      <td>40.0</td>\n",
       "      <td>67.6</td>\n",
       "      <td>46.0</td>\n",
       "      <td>14.8</td>\n",
       "      <td>28.5</td>\n",
       "      <td>33.5</td>\n",
       "    </tr>\n",
       "  </tbody>\n",
       "</table>\n",
       "<p>104 rows × 14 columns</p>\n",
       "</div>"
      ],
      "text/plain": [
       "     case  site    Pop sex  age  hdlngth  skullw  totlngth  taill  footlgth  \\\n",
       "0       1     1    Vic   m  8.0     94.1    60.4      89.0   36.0      74.5   \n",
       "1       2     1    Vic   f  6.0     92.5    57.6      91.5   36.5      72.5   \n",
       "2       3     1    Vic   f  6.0     94.0    60.0      95.5   39.0      75.4   \n",
       "3       4     1    Vic   f  6.0     93.2    57.1      92.0   38.0      76.1   \n",
       "4       5     1    Vic   f  2.0     91.5    56.3      85.5   36.0      71.0   \n",
       "..    ...   ...    ...  ..  ...      ...     ...       ...    ...       ...   \n",
       "99    100     7  other   m  1.0     89.5    56.0      81.5   36.5      66.0   \n",
       "100   101     7  other   m  1.0     88.6    54.7      82.5   39.0      64.4   \n",
       "101   102     7  other   f  6.0     92.4    55.0      89.0   38.0      63.5   \n",
       "102   103     7  other   m  4.0     91.5    55.2      82.5   36.5      62.9   \n",
       "103   104     7  other   f  3.0     93.6    59.9      89.0   40.0      67.6   \n",
       "\n",
       "     earconch   eye  chest  belly  \n",
       "0        54.5  15.2   28.0   36.0  \n",
       "1        51.2  16.0   28.5   33.0  \n",
       "2        51.9  15.5   30.0   34.0  \n",
       "3        52.2  15.2   28.0   34.0  \n",
       "4        53.2  15.1   28.5   33.0  \n",
       "..        ...   ...    ...    ...  \n",
       "99       46.8  14.8   23.0   27.0  \n",
       "100      48.0  14.0   25.0   33.0  \n",
       "101      45.4  13.0   25.0   30.0  \n",
       "102      45.9  15.4   25.0   29.0  \n",
       "103      46.0  14.8   28.5   33.5  \n",
       "\n",
       "[104 rows x 14 columns]"
      ]
     },
     "execution_count": 14,
     "metadata": {},
     "output_type": "execute_result"
    }
   ],
   "source": [
    "dataset"
   ]
  },
  {
   "cell_type": "markdown",
   "id": "597ec183",
   "metadata": {},
   "source": [
    "## Dataset"
   ]
  },
  {
   "cell_type": "code",
   "execution_count": 15,
   "id": "32108400",
   "metadata": {},
   "outputs": [],
   "source": [
    "X = dataset.earconch.values\n",
    "Y = dataset.footlgth.values\n",
    "Y = np.nan_to_num(Y, nan=np.nanmean(Y))"
   ]
  },
  {
   "cell_type": "code",
   "execution_count": 16,
   "id": "cabf1cbd",
   "metadata": {},
   "outputs": [
    {
     "data": {
      "text/plain": [
       "(array([54.5, 51.2, 51.9, 52.2, 53.2, 53.6, 52. , 53.9, 52.9, 53.4, 51.3,\n",
       "        51. , 49.8, 53.7, 51.8, 51.4, 53.2, 55.4, 53.9, 52.4, 52.9, 52.1,\n",
       "        53.3, 53.5, 51.6, 56.2, 50.8, 53. , 51.8, 50.8, 52.5, 52. , 51.8,\n",
       "        53.1, 55.5, 52. , 52. , 49.5, 53.4, 51.4, 40.3, 51.2, 49.4, 52.6,\n",
       "        54. , 51.2, 45.5, 44.9, 45. , 47.2, 43.9, 44.3, 46. , 46. , 44.9,\n",
       "        46.8, 45.3, 46.4, 44.5, 47. , 44.9, 41.3, 46.3, 45.1, 41.7, 44.2,\n",
       "        44.1, 43.1, 45.6, 44.1, 42.8, 42.4, 44.7, 45.9, 45.6, 46.4, 42.9,\n",
       "        44.3, 43. , 44.8, 41.7, 42.9, 43.3, 43.6, 43.5, 43.7, 46.8, 43.5,\n",
       "        46.2, 44.8, 48. , 46.8, 44.9, 45.1, 45.4, 47.7, 46. , 44.3, 43.8,\n",
       "        46.8, 48. , 45.4, 45.9, 46. ]),\n",
       " array([74.5      , 72.5      , 75.4      , 76.1      , 71.       ,\n",
       "        73.2      , 71.5      , 72.7      , 72.4      , 70.9      ,\n",
       "        77.2      , 71.7      , 71.       , 74.3      , 69.7      ,\n",
       "        73.       , 73.2      , 73.7      , 73.4      , 73.8      ,\n",
       "        77.9      , 73.5      , 72.8      , 75.       , 72.3      ,\n",
       "        73.6      , 70.3      , 73.2      , 74.9      , 70.6      ,\n",
       "        68.       , 74.8      , 70.8      , 73.1      , 71.2      ,\n",
       "        74.3      , 71.2      , 68.4      , 68.7      , 72.8      ,\n",
       "        68.4592233, 62.7      , 72.       , 70.3      , 71.5      ,\n",
       "        72.8      , 66.       , 66.9      , 69.       , 65.       ,\n",
       "        64.       , 67.9      , 67.4      , 71.3      , 72.5      ,\n",
       "        68.7      , 67.2      , 66.5      , 73.2      , 63.1      ,\n",
       "        63.1      , 65.5      , 64.1      , 63.       , 68.2      ,\n",
       "        63.2      , 64.7      , 65.9      , 65.       , 65.4      ,\n",
       "        65.7      , 62.       , 65.7      , 61.5      , 66.2      ,\n",
       "        64.5      , 62.8      , 63.       , 62.8      , 62.3      ,\n",
       "        65.6      , 60.7      , 62.       , 62.6      , 65.6      ,\n",
       "        60.3      , 71.7      , 66.7      , 64.4      , 69.8      ,\n",
       "        65.5      , 67.6      , 63.8      , 64.2      , 64.5      ,\n",
       "        66.5      , 63.8      , 65.6      , 64.8      , 66.       ,\n",
       "        64.4      , 63.5      , 62.9      , 67.6      ]))"
      ]
     },
     "execution_count": 16,
     "metadata": {},
     "output_type": "execute_result"
    }
   ],
   "source": [
    "X, Y"
   ]
  },
  {
   "cell_type": "markdown",
   "id": "2c1932df",
   "metadata": {},
   "source": [
    "## Linear regression (from scratch)"
   ]
  },
  {
   "cell_type": "code",
   "execution_count": 17,
   "id": "fff8e2ea",
   "metadata": {},
   "outputs": [],
   "source": [
    "y_bar = np.mean(Y)\n",
    "x_bar = np.mean(X)"
   ]
  },
  {
   "cell_type": "code",
   "execution_count": 18,
   "id": "2fe05808",
   "metadata": {},
   "outputs": [],
   "source": [
    "b1 = np.sum((X - x_bar) * (Y - y_bar)) / np.sum((X - x_bar) ** 2)\n",
    "b0 = y_bar - b1 * x_bar"
   ]
  },
  {
   "cell_type": "code",
   "execution_count": 19,
   "id": "e7c219e3",
   "metadata": {},
   "outputs": [
    {
     "data": {
      "text/plain": [
       "[<matplotlib.lines.Line2D at 0x14eac05f0>]"
      ]
     },
     "execution_count": 19,
     "metadata": {},
     "output_type": "execute_result"
    },
    {
     "data": {
      "image/png": "[encoded data removed]",
      "text/plain": [
       "<Figure size 640x480 with 1 Axes>"
      ]
     },
     "metadata": {},
     "output_type": "display_data"
    }
   ],
   "source": [
    "y_hat = b0 + b1 * X\n",
    "\n",
    "plt.scatter(X, Y)\n",
    "plt.plot(X, y_hat, color='red')"
   ]
  },
  {
   "cell_type": "markdown",
   "id": "3fa5adf0",
   "metadata": {},
   "source": [
    "## Linear regression (scikit-learn)"
   ]
  },
  {
   "cell_type": "code",
   "execution_count": 21,
   "id": "7da149b6",
   "metadata": {},
   "outputs": [
    {
     "data": {
      "text/plain": [
       "<matplotlib.collections.PathCollection at 0x14eb44f20>"
      ]
     },
     "execution_count": 21,
     "metadata": {},
     "output_type": "execute_result"
    },
    {
     "data": {
      "image/png": "[encoded data removed]",
      "text/plain": [
       "<Figure size 640x480 with 1 Axes>"
      ]
     },
     "metadata": {},
     "output_type": "display_data"
    }
   ],
   "source": [
    "import sklearn.linear_model as lm\n",
    "\n",
    "X = X.reshape(-1, 1)\n",
    "Y = Y.reshape(-1, 1)\n",
    "\n",
    "model = lm.LinearRegression()\n",
    "\n",
    "model.fit(X, Y)\n",
    "\n",
    "y_hat = model.predict(X)\n",
    "\n",
    "plt.plot(X, y_hat, color='green')\n",
    "plt.scatter(X, Y)"
   ]
  }
 ],
 "metadata": {
  "kernelspec": {
   "display_name": "Python 3",
   "language": "python",
   "name": "python3"
  },
  "language_info": {
   "codemirror_mode": {
    "name": "ipython",
    "version": 3
   },
   "file_extension": ".py",
   "mimetype": "text/x-python",
   "name": "python",
   "nbconvert_exporter": "python",
   "pygments_lexer": "ipython3",
   "version": "3.12.7"
  }
 },
 "nbformat": 4,
 "nbformat_minor": 5
}
